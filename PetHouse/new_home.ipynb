{
  "cells": [
    {
      "cell_type": "code",
      "execution_count": 1,
      "metadata": {
        "id": "4lddftZAf5Bv"
      },
      "outputs": [],
      "source": [
        "import numpy as np\n",
        "import pandas as pd"
      ]
    },
    {
      "cell_type": "code",
      "execution_count": 2,
      "metadata": {
        "colab": {
          "base_uri": "https://localhost:8080/"
        },
        "id": "KCk8pM0ofVvf",
        "outputId": "0faffd7e-6a71-4ee3-dd45-b210189d6b32"
      },
      "outputs": [
        {
          "name": "stderr",
          "output_type": "stream",
          "text": [
            "2025-03-22 19:23:25.831122: I tensorflow/core/util/port.cc:153] oneDNN custom operations are on. You may see slightly different numerical results due to floating-point round-off errors from different computation orders. To turn them off, set the environment variable `TF_ENABLE_ONEDNN_OPTS=0`.\n",
            "2025-03-22 19:23:25.832314: I external/local_xla/xla/tsl/cuda/cudart_stub.cc:32] Could not find cuda drivers on your machine, GPU will not be used.\n",
            "2025-03-22 19:23:25.835884: I external/local_xla/xla/tsl/cuda/cudart_stub.cc:32] Could not find cuda drivers on your machine, GPU will not be used.\n",
            "2025-03-22 19:23:25.844397: E external/local_xla/xla/stream_executor/cuda/cuda_fft.cc:485] Unable to register cuFFT factory: Attempting to register factory for plugin cuFFT when one has already been registered\n",
            "2025-03-22 19:23:25.858361: E external/local_xla/xla/stream_executor/cuda/cuda_dnn.cc:8454] Unable to register cuDNN factory: Attempting to register factory for plugin cuDNN when one has already been registered\n",
            "2025-03-22 19:23:25.862314: E external/local_xla/xla/stream_executor/cuda/cuda_blas.cc:1452] Unable to register cuBLAS factory: Attempting to register factory for plugin cuBLAS when one has already been registered\n",
            "2025-03-22 19:23:25.875545: I tensorflow/core/platform/cpu_feature_guard.cc:210] This TensorFlow binary is optimized to use available CPU instructions in performance-critical operations.\n",
            "To enable the following instructions: AVX2 AVX_VNNI FMA, in other operations, rebuild TensorFlow with the appropriate compiler flags.\n",
            "2025-03-22 19:23:27.062120: W tensorflow/compiler/tf2tensorrt/utils/py_utils.cc:38] TF-TRT Warning: Could not find TensorRT\n"
          ]
        },
        {
          "name": "stdout",
          "output_type": "stream",
          "text": [
            "3.7.0\n"
          ]
        }
      ],
      "source": [
        "import keras\n",
        "print(keras.__version__)"
      ]
    },
    {
      "cell_type": "code",
      "execution_count": 3,
      "metadata": {
        "id": "P-aWB6FGicfc"
      },
      "outputs": [],
      "source": [
        "# If you are using a version of Keras lower than 3, you will need to uncomment the following line.\n",
        "# !pip install keras --upgrade"
      ]
    },
    {
      "cell_type": "code",
      "execution_count": 4,
      "metadata": {
        "colab": {
          "base_uri": "https://localhost:8080/"
        },
        "id": "Zv-kzEm_ieGY",
        "outputId": "95bc65a2-be8c-4433-b865-a6625b3e4ab3"
      },
      "outputs": [
        {
          "name": "stdout",
          "output_type": "stream",
          "text": [
            "3.7.0\n"
          ]
        }
      ],
      "source": [
        "import keras\n",
        "print(keras.__version__)"
      ]
    },
    {
      "cell_type": "code",
      "execution_count": 5,
      "metadata": {
        "id": "1asRUUjB3XQ5"
      },
      "outputs": [],
      "source": [
        "import os\n",
        "os.environ[\"KERAS_BACKEND\"] = \"tensorflow\""
      ]
    },
    {
      "cell_type": "code",
      "execution_count": 7,
      "metadata": {
        "id": "huIChr-93hDq"
      },
      "outputs": [],
      "source": [
        "# Load the train and test data\n",
        "train = pd.read_csv('./data/petfinder_train.csv')\n",
        "test =  pd.read_csv('./data/petfinder_test.csv')"
      ]
    },
    {
      "cell_type": "code",
      "execution_count": 8,
      "metadata": {
        "colab": {
          "base_uri": "https://localhost:8080/",
          "height": 487
        },
        "id": "tBg8FlMEf5By",
        "outputId": "cbcdfe80-9a8c-4150-ff00-f7fad528986b"
      },
      "outputs": [
        {
          "data": {
            "text/html": [
              "<div>\n",
              "<style scoped>\n",
              "    .dataframe tbody tr th:only-of-type {\n",
              "        vertical-align: middle;\n",
              "    }\n",
              "\n",
              "    .dataframe tbody tr th {\n",
              "        vertical-align: top;\n",
              "    }\n",
              "\n",
              "    .dataframe thead th {\n",
              "        text-align: right;\n",
              "    }\n",
              "</style>\n",
              "<table border=\"1\" class=\"dataframe\">\n",
              "  <thead>\n",
              "    <tr style=\"text-align: right;\">\n",
              "      <th></th>\n",
              "      <th>Type</th>\n",
              "      <th>Age</th>\n",
              "      <th>Breed1</th>\n",
              "      <th>Gender</th>\n",
              "      <th>Color1</th>\n",
              "      <th>Color2</th>\n",
              "      <th>MaturitySize</th>\n",
              "      <th>FurLength</th>\n",
              "      <th>Vaccinated</th>\n",
              "      <th>Sterilized</th>\n",
              "      <th>Health</th>\n",
              "      <th>Fee</th>\n",
              "      <th>Description</th>\n",
              "      <th>PhotoAmt</th>\n",
              "      <th>AdoptionSpeed</th>\n",
              "    </tr>\n",
              "  </thead>\n",
              "  <tbody>\n",
              "    <tr>\n",
              "      <th>0</th>\n",
              "      <td>Cat</td>\n",
              "      <td>3</td>\n",
              "      <td>Tabby</td>\n",
              "      <td>Male</td>\n",
              "      <td>Black</td>\n",
              "      <td>White</td>\n",
              "      <td>Small</td>\n",
              "      <td>Short</td>\n",
              "      <td>No</td>\n",
              "      <td>No</td>\n",
              "      <td>Healthy</td>\n",
              "      <td>100</td>\n",
              "      <td>Nibble is a 3+ month old ball of cuteness. He ...</td>\n",
              "      <td>1</td>\n",
              "      <td>2</td>\n",
              "    </tr>\n",
              "    <tr>\n",
              "      <th>1</th>\n",
              "      <td>Cat</td>\n",
              "      <td>1</td>\n",
              "      <td>Domestic Medium Hair</td>\n",
              "      <td>Male</td>\n",
              "      <td>Black</td>\n",
              "      <td>Brown</td>\n",
              "      <td>Medium</td>\n",
              "      <td>Medium</td>\n",
              "      <td>Not Sure</td>\n",
              "      <td>Not Sure</td>\n",
              "      <td>Healthy</td>\n",
              "      <td>0</td>\n",
              "      <td>I just found it alone yesterday near my apartm...</td>\n",
              "      <td>2</td>\n",
              "      <td>0</td>\n",
              "    </tr>\n",
              "    <tr>\n",
              "      <th>2</th>\n",
              "      <td>Dog</td>\n",
              "      <td>1</td>\n",
              "      <td>Mixed Breed</td>\n",
              "      <td>Male</td>\n",
              "      <td>Brown</td>\n",
              "      <td>White</td>\n",
              "      <td>Medium</td>\n",
              "      <td>Medium</td>\n",
              "      <td>Yes</td>\n",
              "      <td>No</td>\n",
              "      <td>Healthy</td>\n",
              "      <td>0</td>\n",
              "      <td>Their pregnant mother was dumped by her irresp...</td>\n",
              "      <td>7</td>\n",
              "      <td>3</td>\n",
              "    </tr>\n",
              "    <tr>\n",
              "      <th>3</th>\n",
              "      <td>Dog</td>\n",
              "      <td>4</td>\n",
              "      <td>Mixed Breed</td>\n",
              "      <td>Female</td>\n",
              "      <td>Black</td>\n",
              "      <td>Brown</td>\n",
              "      <td>Medium</td>\n",
              "      <td>Short</td>\n",
              "      <td>Yes</td>\n",
              "      <td>No</td>\n",
              "      <td>Healthy</td>\n",
              "      <td>150</td>\n",
              "      <td>Good guard dog, very alert, active, obedience ...</td>\n",
              "      <td>8</td>\n",
              "      <td>2</td>\n",
              "    </tr>\n",
              "    <tr>\n",
              "      <th>4</th>\n",
              "      <td>Dog</td>\n",
              "      <td>1</td>\n",
              "      <td>Mixed Breed</td>\n",
              "      <td>Male</td>\n",
              "      <td>Black</td>\n",
              "      <td>No Color</td>\n",
              "      <td>Medium</td>\n",
              "      <td>Short</td>\n",
              "      <td>No</td>\n",
              "      <td>No</td>\n",
              "      <td>Healthy</td>\n",
              "      <td>0</td>\n",
              "      <td>This handsome yet cute boy is up for adoption....</td>\n",
              "      <td>3</td>\n",
              "      <td>2</td>\n",
              "    </tr>\n",
              "  </tbody>\n",
              "</table>\n",
              "</div>"
            ],
            "text/plain": [
              "  Type  Age                Breed1  Gender Color1    Color2 MaturitySize  \\\n",
              "0  Cat    3                 Tabby    Male  Black     White        Small   \n",
              "1  Cat    1  Domestic Medium Hair    Male  Black     Brown       Medium   \n",
              "2  Dog    1           Mixed Breed    Male  Brown     White       Medium   \n",
              "3  Dog    4           Mixed Breed  Female  Black     Brown       Medium   \n",
              "4  Dog    1           Mixed Breed    Male  Black  No Color       Medium   \n",
              "\n",
              "  FurLength Vaccinated Sterilized   Health  Fee  \\\n",
              "0     Short         No         No  Healthy  100   \n",
              "1    Medium   Not Sure   Not Sure  Healthy    0   \n",
              "2    Medium        Yes         No  Healthy    0   \n",
              "3     Short        Yes         No  Healthy  150   \n",
              "4     Short         No         No  Healthy    0   \n",
              "\n",
              "                                         Description  PhotoAmt  AdoptionSpeed  \n",
              "0  Nibble is a 3+ month old ball of cuteness. He ...         1              2  \n",
              "1  I just found it alone yesterday near my apartm...         2              0  \n",
              "2  Their pregnant mother was dumped by her irresp...         7              3  \n",
              "3  Good guard dog, very alert, active, obedience ...         8              2  \n",
              "4  This handsome yet cute boy is up for adoption....         3              2  "
            ]
          },
          "execution_count": 8,
          "metadata": {},
          "output_type": "execute_result"
        }
      ],
      "source": [
        "train.head()"
      ]
    },
    {
      "cell_type": "code",
      "execution_count": 9,
      "metadata": {
        "colab": {
          "base_uri": "https://localhost:8080/"
        },
        "id": "nKP7FU753j_L",
        "outputId": "fa37fabe-89ec-41c1-a7ff-ca1a842e997e"
      },
      "outputs": [
        {
          "name": "stdout",
          "output_type": "stream",
          "text": [
            "<class 'pandas.core.frame.DataFrame'>\n",
            "RangeIndex: 10537 entries, 0 to 10536\n",
            "Data columns (total 15 columns):\n",
            " #   Column         Non-Null Count  Dtype \n",
            "---  ------         --------------  ----- \n",
            " 0   Type           10537 non-null  object\n",
            " 1   Age            10537 non-null  int64 \n",
            " 2   Breed1         10537 non-null  object\n",
            " 3   Gender         10537 non-null  object\n",
            " 4   Color1         10537 non-null  object\n",
            " 5   Color2         10537 non-null  object\n",
            " 6   MaturitySize   10537 non-null  object\n",
            " 7   FurLength      10537 non-null  object\n",
            " 8   Vaccinated     10537 non-null  object\n",
            " 9   Sterilized     10537 non-null  object\n",
            " 10  Health         10537 non-null  object\n",
            " 11  Fee            10537 non-null  int64 \n",
            " 12  Description    10528 non-null  object\n",
            " 13  PhotoAmt       10537 non-null  int64 \n",
            " 14  AdoptionSpeed  10537 non-null  int64 \n",
            "dtypes: int64(4), object(11)\n",
            "memory usage: 1.2+ MB\n"
          ]
        }
      ],
      "source": [
        "train.info()"
      ]
    },
    {
      "cell_type": "code",
      "execution_count": 10,
      "metadata": {
        "id": "byXI0LWzgxQR"
      },
      "outputs": [],
      "source": [
        "dict = {\n",
        "    0: 1,\n",
        "    1: 1,\n",
        "    2: 1,\n",
        "    3: 1,\n",
        "    4: 0\n",
        "}\n",
        "\n",
        "train['Target']= train['AdoptionSpeed'].replace(dict)"
      ]
    },
    {
      "cell_type": "code",
      "execution_count": 11,
      "metadata": {
        "id": "JwIXEWyQjImO"
      },
      "outputs": [],
      "source": [
        "train.drop(columns = ['AdoptionSpeed','Description'], inplace = True)\n",
        "test.drop(columns = ['Description'], inplace = True)"
      ]
    },
    {
      "cell_type": "code",
      "execution_count": 12,
      "metadata": {
        "colab": {
          "base_uri": "https://localhost:8080/"
        },
        "id": "KB5V1APOf5B0",
        "outputId": "a422616f-61e8-47e0-a013-50f2d73e68a5"
      },
      "outputs": [
        {
          "name": "stdout",
          "output_type": "stream",
          "text": [
            "<class 'pandas.core.frame.DataFrame'>\n",
            "RangeIndex: 10537 entries, 0 to 10536\n",
            "Data columns (total 14 columns):\n",
            " #   Column        Non-Null Count  Dtype \n",
            "---  ------        --------------  ----- \n",
            " 0   Type          10537 non-null  object\n",
            " 1   Age           10537 non-null  int64 \n",
            " 2   Breed1        10537 non-null  object\n",
            " 3   Gender        10537 non-null  object\n",
            " 4   Color1        10537 non-null  object\n",
            " 5   Color2        10537 non-null  object\n",
            " 6   MaturitySize  10537 non-null  object\n",
            " 7   FurLength     10537 non-null  object\n",
            " 8   Vaccinated    10537 non-null  object\n",
            " 9   Sterilized    10537 non-null  object\n",
            " 10  Health        10537 non-null  object\n",
            " 11  Fee           10537 non-null  int64 \n",
            " 12  PhotoAmt      10537 non-null  int64 \n",
            " 13  Target        10537 non-null  int64 \n",
            "dtypes: int64(4), object(10)\n",
            "memory usage: 1.1+ MB\n"
          ]
        }
      ],
      "source": [
        "train.info()"
      ]
    },
    {
      "cell_type": "code",
      "execution_count": 13,
      "metadata": {
        "colab": {
          "base_uri": "https://localhost:8080/"
        },
        "id": "dx9Rzs0vf5B0",
        "outputId": "a668fdad-9abf-483d-80d5-126081270d39"
      },
      "outputs": [
        {
          "name": "stdout",
          "output_type": "stream",
          "text": [
            "column: Type unique_values: 2\n",
            "column: Breed1 unique_values: 165\n",
            "column: Gender unique_values: 2\n",
            "column: Color1 unique_values: 7\n",
            "column: Color2 unique_values: 7\n",
            "column: MaturitySize unique_values: 3\n",
            "column: FurLength unique_values: 3\n",
            "column: Vaccinated unique_values: 3\n",
            "column: Sterilized unique_values: 3\n",
            "column: Health unique_values: 3\n"
          ]
        }
      ],
      "source": [
        "for column in [\"Type\", \"Breed1\", \"Gender\", \"Color1\", \"Color2\", \"MaturitySize\", \"FurLength\", \"Vaccinated\", \"Sterilized\", \"Health\"]:\n",
        "    print(\"column:\", column, \"unique_values:\", len(train[column].unique()))"
      ]
    },
    {
      "cell_type": "code",
      "execution_count": 14,
      "metadata": {
        "id": "5KmcCLT_f5B1"
      },
      "outputs": [],
      "source": [
        "from sklearn.preprocessing import LabelEncoder\n",
        "\n",
        "le = LabelEncoder()\n",
        "\n",
        "train['MaturitySize'] = le.fit_transform(train['MaturitySize'])\n",
        "test['MaturitySize'] = le.transform(test['MaturitySize'])\n",
        "\n",
        "train['FurLength'] = le.fit_transform(train['FurLength'])\n",
        "test['FurLength'] = le.transform(test['FurLength'])\n",
        "\n",
        "train['Health'] = le.fit_transform(train['Health'])\n",
        "test['Health'] = le.transform(test['Health'])"
      ]
    },
    {
      "cell_type": "code",
      "execution_count": 15,
      "metadata": {
        "id": "bim0mQD9f5B1"
      },
      "outputs": [],
      "source": [
        "train['Type'] = le.fit_transform(train['Type'])\n",
        "test['Type'] = le.transform(test['Type'])\n",
        "\n",
        "train['Gender'] = le.fit_transform(train['Gender'])\n",
        "test['Gender'] = le.transform(test['Gender'])"
      ]
    },
    {
      "cell_type": "code",
      "execution_count": 16,
      "metadata": {
        "colab": {
          "base_uri": "https://localhost:8080/"
        },
        "id": "9R3-iSD5i6sO",
        "outputId": "4c05cd44-5feb-43b1-a0e2-91cc0faaf33d"
      },
      "outputs": [
        {
          "name": "stdout",
          "output_type": "stream",
          "text": [
            "Requirement already satisfied: category_encoders in /home/melika_yazdanpanah/miniconda3/lib/python3.12/site-packages (2.6.4)\n",
            "Requirement already satisfied: numpy>=1.14.0 in /home/melika_yazdanpanah/miniconda3/lib/python3.12/site-packages (from category_encoders) (1.26.4)\n",
            "Requirement already satisfied: scikit-learn>=0.20.0 in /home/melika_yazdanpanah/miniconda3/lib/python3.12/site-packages (from category_encoders) (1.5.1)\n",
            "Requirement already satisfied: scipy>=1.0.0 in /home/melika_yazdanpanah/miniconda3/lib/python3.12/site-packages (from category_encoders) (1.12.0)\n",
            "Requirement already satisfied: statsmodels>=0.9.0 in /home/melika_yazdanpanah/miniconda3/lib/python3.12/site-packages (from category_encoders) (0.14.4)\n",
            "Requirement already satisfied: pandas>=1.0.5 in /home/melika_yazdanpanah/miniconda3/lib/python3.12/site-packages (from category_encoders) (2.2.2)\n",
            "Requirement already satisfied: patsy>=0.5.1 in /home/melika_yazdanpanah/miniconda3/lib/python3.12/site-packages (from category_encoders) (1.0.1)\n",
            "Requirement already satisfied: python-dateutil>=2.8.2 in /home/melika_yazdanpanah/miniconda3/lib/python3.12/site-packages (from pandas>=1.0.5->category_encoders) (2.9.0)\n",
            "Requirement already satisfied: pytz>=2020.1 in /home/melika_yazdanpanah/miniconda3/lib/python3.12/site-packages (from pandas>=1.0.5->category_encoders) (2024.1)\n",
            "Requirement already satisfied: tzdata>=2022.7 in /home/melika_yazdanpanah/miniconda3/lib/python3.12/site-packages (from pandas>=1.0.5->category_encoders) (2023.3)\n",
            "Requirement already satisfied: joblib>=1.2.0 in /home/melika_yazdanpanah/miniconda3/lib/python3.12/site-packages (from scikit-learn>=0.20.0->category_encoders) (1.4.2)\n",
            "Requirement already satisfied: threadpoolctl>=3.1.0 in /home/melika_yazdanpanah/miniconda3/lib/python3.12/site-packages (from scikit-learn>=0.20.0->category_encoders) (3.5.0)\n",
            "Requirement already satisfied: packaging>=21.3 in /home/melika_yazdanpanah/miniconda3/lib/python3.12/site-packages (from statsmodels>=0.9.0->category_encoders) (24.2)\n",
            "Requirement already satisfied: six>=1.5 in /home/melika_yazdanpanah/miniconda3/lib/python3.12/site-packages (from python-dateutil>=2.8.2->pandas>=1.0.5->category_encoders) (1.16.0)\n"
          ]
        }
      ],
      "source": [
        "!pip install category_encoders"
      ]
    },
    {
      "cell_type": "code",
      "execution_count": 17,
      "metadata": {
        "id": "ei-Ms7Avf5B1"
      },
      "outputs": [],
      "source": [
        "import category_encoders as ce\n",
        "\n",
        "binary_encoder = ce.BinaryEncoder()\n",
        "\n",
        "train_binary_Breed1 = binary_encoder.fit_transform(train['Breed1'])\n",
        "test_binary_Breed1 = binary_encoder.transform(test['Breed1'])\n",
        "\n",
        "train_binary_Color1 = binary_encoder.fit_transform(train['Color1'])\n",
        "test_binary_Color1 = binary_encoder.transform(test['Color1'])\n",
        "\n",
        "train_binary_Color2 = binary_encoder.fit_transform(train['Color2'])\n",
        "test_binary_Color2 = binary_encoder.transform(test['Color2'])\n",
        "\n",
        "train_binary_Vaccinated = binary_encoder.fit_transform(train['Vaccinated'])\n",
        "test_binary_Vaccinated = binary_encoder.transform(test['Vaccinated'])\n",
        "\n",
        "train_binary_Sterilized = binary_encoder.fit_transform(train['Sterilized'])\n",
        "test_binary_Sterilized = binary_encoder.transform(test['Sterilized'])"
      ]
    },
    {
      "cell_type": "code",
      "execution_count": 18,
      "metadata": {
        "colab": {
          "base_uri": "https://localhost:8080/"
        },
        "id": "0rQ9OgZsf5B2",
        "outputId": "137f8bff-817f-473c-c4ae-3c1f7a90edb7"
      },
      "outputs": [
        {
          "name": "stdout",
          "output_type": "stream",
          "text": [
            "<class 'pandas.core.frame.DataFrame'>\n",
            "RangeIndex: 10537 entries, 0 to 10536\n",
            "Data columns (total 27 columns):\n",
            " #   Column        Non-Null Count  Dtype\n",
            "---  ------        --------------  -----\n",
            " 0   Type          10537 non-null  int64\n",
            " 1   Age           10537 non-null  int64\n",
            " 2   Gender        10537 non-null  int64\n",
            " 3   MaturitySize  10537 non-null  int64\n",
            " 4   FurLength     10537 non-null  int64\n",
            " 5   Health        10537 non-null  int64\n",
            " 6   Fee           10537 non-null  int64\n",
            " 7   PhotoAmt      10537 non-null  int64\n",
            " 8   Target        10537 non-null  int64\n",
            " 9   Breed1_0      10537 non-null  int64\n",
            " 10  Breed1_1      10537 non-null  int64\n",
            " 11  Breed1_2      10537 non-null  int64\n",
            " 12  Breed1_3      10537 non-null  int64\n",
            " 13  Breed1_4      10537 non-null  int64\n",
            " 14  Breed1_5      10537 non-null  int64\n",
            " 15  Breed1_6      10537 non-null  int64\n",
            " 16  Breed1_7      10537 non-null  int64\n",
            " 17  Color1_0      10537 non-null  int64\n",
            " 18  Color1_1      10537 non-null  int64\n",
            " 19  Color1_2      10537 non-null  int64\n",
            " 20  Color2_0      10537 non-null  int64\n",
            " 21  Color2_1      10537 non-null  int64\n",
            " 22  Color2_2      10537 non-null  int64\n",
            " 23  Vaccinated_0  10537 non-null  int64\n",
            " 24  Vaccinated_1  10537 non-null  int64\n",
            " 25  Sterilized_0  10537 non-null  int64\n",
            " 26  Sterilized_1  10537 non-null  int64\n",
            "dtypes: int64(27)\n",
            "memory usage: 2.2 MB\n"
          ]
        }
      ],
      "source": [
        "train = pd.concat([train, train_binary_Breed1, train_binary_Color1, train_binary_Color2, train_binary_Vaccinated, train_binary_Sterilized], axis=1)\n",
        "columns = ['Breed1','Color1','Color2','Vaccinated','Sterilized']\n",
        "train.drop(columns = columns, inplace = True)\n",
        "\n",
        "test = pd.concat([test, test_binary_Breed1, test_binary_Color1, test_binary_Color2, test_binary_Vaccinated, test_binary_Sterilized], axis=1)\n",
        "columns = ['Breed1','Color1','Color2','Vaccinated','Sterilized']\n",
        "test.drop(columns = columns, inplace = True)\n",
        "\n",
        "train.info()"
      ]
    },
    {
      "cell_type": "code",
      "execution_count": 19,
      "metadata": {
        "id": "ou4xZDdvJux5"
      },
      "outputs": [],
      "source": [
        "for column in train.drop(columns = ['Target']).columns:\n",
        "  mean = train[column].mean() #To-Do (Mean of train_data[column])\n",
        "  std = train[column].std() #To-Do (Standard Deviation of train_data[column])\n",
        "  train[column] = (train[column]- mean)/std\n",
        "  test[column] = (test[column] - mean)/std"
      ]
    },
    {
      "cell_type": "code",
      "execution_count": 20,
      "metadata": {
        "colab": {
          "base_uri": "https://localhost:8080/"
        },
        "id": "IxvwowoojG9X",
        "outputId": "1dc1513c-5127-4aec-f7ef-13f5eab1da84"
      },
      "outputs": [
        {
          "name": "stdout",
          "output_type": "stream",
          "text": [
            "Train examples:  9483 9483\n",
            "Validation examples:  1054 1054\n",
            "Test examples:  1000\n"
          ]
        }
      ],
      "source": [
        "from sklearn.model_selection import train_test_split\n",
        "\n",
        "X_train, X_valid, y_train, y_valid = train_test_split(train.drop(columns = ['Target']), train['Target'], test_size = 0.1)\n",
        "\n",
        "print('Train examples: ', len(X_train), len(y_train))\n",
        "print('Validation examples: ', len(X_valid), len(y_valid))\n",
        "print('Test examples: ',  len(test))"
      ]
    },
    {
      "cell_type": "code",
      "execution_count": 21,
      "metadata": {
        "id": "PnNJ6CFG5oR4"
      },
      "outputs": [
        {
          "name": "stderr",
          "output_type": "stream",
          "text": [
            "WARNING: All log messages before absl::InitializeLog() is called are written to STDERR\n",
            "I0000 00:00:1742658861.711892   11897 cuda_executor.cc:1001] could not open file to read NUMA node: /sys/bus/pci/devices/0000:01:00.0/numa_node\n",
            "Your kernel may have been built without NUMA support.\n",
            "2025-03-22 19:24:21.713565: W tensorflow/core/common_runtime/gpu/gpu_device.cc:2343] Cannot dlopen some GPU libraries. Please make sure the missing libraries mentioned above are installed properly if you would like to use GPU. Follow the guide at https://www.tensorflow.org/install/gpu for how to download and setup the required libraries for your platform.\n",
            "Skipping registering GPU devices...\n"
          ]
        }
      ],
      "source": [
        "model = keras.models.Sequential()\n",
        "model.add(keras.layers.Input(shape=(26,)))\n",
        "model.add(keras.layers.Dense(5000, activation='relu'))\n",
        "model.add(keras.layers.Dense(1000, activation='relu'))\n",
        "model.add(keras.layers.Dense(500, activation='relu'))\n",
        "model.add(keras.layers.Dense(1, activation='sigmoid'))"
      ]
    },
    {
      "cell_type": "code",
      "execution_count": 22,
      "metadata": {
        "colab": {
          "base_uri": "https://localhost:8080/",
          "height": 257
        },
        "id": "YQSuwL5AiZq-",
        "outputId": "7fa190f6-dabf-49ad-db96-483dbe2ab3c9"
      },
      "outputs": [
        {
          "data": {
            "text/html": [
              "<pre style=\"white-space:pre;overflow-x:auto;line-height:normal;font-family:Menlo,'DejaVu Sans Mono',consolas,'Courier New',monospace\"><span style=\"font-weight: bold\">Model: \"sequential\"</span>\n",
              "</pre>\n"
            ],
            "text/plain": [
              "\u001b[1mModel: \"sequential\"\u001b[0m\n"
            ]
          },
          "metadata": {},
          "output_type": "display_data"
        },
        {
          "data": {
            "text/html": [
              "<pre style=\"white-space:pre;overflow-x:auto;line-height:normal;font-family:Menlo,'DejaVu Sans Mono',consolas,'Courier New',monospace\">┏━━━━━━━━━━━━━━━━━━━━━━━━━━━━━━━━━┳━━━━━━━━━━━━━━━━━━━━━━━━┳━━━━━━━━━━━━━━━┓\n",
              "┃<span style=\"font-weight: bold\"> Layer (type)                    </span>┃<span style=\"font-weight: bold\"> Output Shape           </span>┃<span style=\"font-weight: bold\">       Param # </span>┃\n",
              "┡━━━━━━━━━━━━━━━━━━━━━━━━━━━━━━━━━╇━━━━━━━━━━━━━━━━━━━━━━━━╇━━━━━━━━━━━━━━━┩\n",
              "│ dense (<span style=\"color: #0087ff; text-decoration-color: #0087ff\">Dense</span>)                   │ (<span style=\"color: #00d7ff; text-decoration-color: #00d7ff\">None</span>, <span style=\"color: #00af00; text-decoration-color: #00af00\">5000</span>)           │       <span style=\"color: #00af00; text-decoration-color: #00af00\">135,000</span> │\n",
              "├─────────────────────────────────┼────────────────────────┼───────────────┤\n",
              "│ dense_1 (<span style=\"color: #0087ff; text-decoration-color: #0087ff\">Dense</span>)                 │ (<span style=\"color: #00d7ff; text-decoration-color: #00d7ff\">None</span>, <span style=\"color: #00af00; text-decoration-color: #00af00\">1000</span>)           │     <span style=\"color: #00af00; text-decoration-color: #00af00\">5,001,000</span> │\n",
              "├─────────────────────────────────┼────────────────────────┼───────────────┤\n",
              "│ dense_2 (<span style=\"color: #0087ff; text-decoration-color: #0087ff\">Dense</span>)                 │ (<span style=\"color: #00d7ff; text-decoration-color: #00d7ff\">None</span>, <span style=\"color: #00af00; text-decoration-color: #00af00\">500</span>)            │       <span style=\"color: #00af00; text-decoration-color: #00af00\">500,500</span> │\n",
              "├─────────────────────────────────┼────────────────────────┼───────────────┤\n",
              "│ dense_3 (<span style=\"color: #0087ff; text-decoration-color: #0087ff\">Dense</span>)                 │ (<span style=\"color: #00d7ff; text-decoration-color: #00d7ff\">None</span>, <span style=\"color: #00af00; text-decoration-color: #00af00\">1</span>)              │           <span style=\"color: #00af00; text-decoration-color: #00af00\">501</span> │\n",
              "└─────────────────────────────────┴────────────────────────┴───────────────┘\n",
              "</pre>\n"
            ],
            "text/plain": [
              "┏━━━━━━━━━━━━━━━━━━━━━━━━━━━━━━━━━┳━━━━━━━━━━━━━━━━━━━━━━━━┳━━━━━━━━━━━━━━━┓\n",
              "┃\u001b[1m \u001b[0m\u001b[1mLayer (type)                   \u001b[0m\u001b[1m \u001b[0m┃\u001b[1m \u001b[0m\u001b[1mOutput Shape          \u001b[0m\u001b[1m \u001b[0m┃\u001b[1m \u001b[0m\u001b[1m      Param #\u001b[0m\u001b[1m \u001b[0m┃\n",
              "┡━━━━━━━━━━━━━━━━━━━━━━━━━━━━━━━━━╇━━━━━━━━━━━━━━━━━━━━━━━━╇━━━━━━━━━━━━━━━┩\n",
              "│ dense (\u001b[38;5;33mDense\u001b[0m)                   │ (\u001b[38;5;45mNone\u001b[0m, \u001b[38;5;34m5000\u001b[0m)           │       \u001b[38;5;34m135,000\u001b[0m │\n",
              "├─────────────────────────────────┼────────────────────────┼───────────────┤\n",
              "│ dense_1 (\u001b[38;5;33mDense\u001b[0m)                 │ (\u001b[38;5;45mNone\u001b[0m, \u001b[38;5;34m1000\u001b[0m)           │     \u001b[38;5;34m5,001,000\u001b[0m │\n",
              "├─────────────────────────────────┼────────────────────────┼───────────────┤\n",
              "│ dense_2 (\u001b[38;5;33mDense\u001b[0m)                 │ (\u001b[38;5;45mNone\u001b[0m, \u001b[38;5;34m500\u001b[0m)            │       \u001b[38;5;34m500,500\u001b[0m │\n",
              "├─────────────────────────────────┼────────────────────────┼───────────────┤\n",
              "│ dense_3 (\u001b[38;5;33mDense\u001b[0m)                 │ (\u001b[38;5;45mNone\u001b[0m, \u001b[38;5;34m1\u001b[0m)              │           \u001b[38;5;34m501\u001b[0m │\n",
              "└─────────────────────────────────┴────────────────────────┴───────────────┘\n"
            ]
          },
          "metadata": {},
          "output_type": "display_data"
        },
        {
          "data": {
            "text/html": [
              "<pre style=\"white-space:pre;overflow-x:auto;line-height:normal;font-family:Menlo,'DejaVu Sans Mono',consolas,'Courier New',monospace\"><span style=\"font-weight: bold\"> Total params: </span><span style=\"color: #00af00; text-decoration-color: #00af00\">5,637,001</span> (21.50 MB)\n",
              "</pre>\n"
            ],
            "text/plain": [
              "\u001b[1m Total params: \u001b[0m\u001b[38;5;34m5,637,001\u001b[0m (21.50 MB)\n"
            ]
          },
          "metadata": {},
          "output_type": "display_data"
        },
        {
          "data": {
            "text/html": [
              "<pre style=\"white-space:pre;overflow-x:auto;line-height:normal;font-family:Menlo,'DejaVu Sans Mono',consolas,'Courier New',monospace\"><span style=\"font-weight: bold\"> Trainable params: </span><span style=\"color: #00af00; text-decoration-color: #00af00\">5,637,001</span> (21.50 MB)\n",
              "</pre>\n"
            ],
            "text/plain": [
              "\u001b[1m Trainable params: \u001b[0m\u001b[38;5;34m5,637,001\u001b[0m (21.50 MB)\n"
            ]
          },
          "metadata": {},
          "output_type": "display_data"
        },
        {
          "data": {
            "text/html": [
              "<pre style=\"white-space:pre;overflow-x:auto;line-height:normal;font-family:Menlo,'DejaVu Sans Mono',consolas,'Courier New',monospace\"><span style=\"font-weight: bold\"> Non-trainable params: </span><span style=\"color: #00af00; text-decoration-color: #00af00\">0</span> (0.00 B)\n",
              "</pre>\n"
            ],
            "text/plain": [
              "\u001b[1m Non-trainable params: \u001b[0m\u001b[38;5;34m0\u001b[0m (0.00 B)\n"
            ]
          },
          "metadata": {},
          "output_type": "display_data"
        }
      ],
      "source": [
        "model.summary()"
      ]
    },
    {
      "cell_type": "code",
      "execution_count": 23,
      "metadata": {
        "id": "JzjykerN9DiH"
      },
      "outputs": [],
      "source": [
        "model.compile(optimizer = 'adam',\n",
        "              loss = keras.losses.BinaryCrossentropy(from_logits=False),\n",
        "              metrics = ['accuracy'])"
      ]
    },
    {
      "cell_type": "code",
      "execution_count": 24,
      "metadata": {
        "colab": {
          "base_uri": "https://localhost:8080/"
        },
        "id": "0Ots6nr--Lgn",
        "outputId": "0ad8bd79-0168-4489-f82a-f016f897c5cb"
      },
      "outputs": [
        {
          "name": "stdout",
          "output_type": "stream",
          "text": [
            "Epoch 1/10\n",
            "\u001b[1m75/75\u001b[0m \u001b[32m━━━━━━━━━━━━━━━━━━━━\u001b[0m\u001b[37m\u001b[0m \u001b[1m3s\u001b[0m 33ms/step - accuracy: 0.7214 - loss: 0.5927 - val_accuracy: 0.7448 - val_loss: 0.5216\n",
            "Epoch 2/10\n",
            "\u001b[1m75/75\u001b[0m \u001b[32m━━━━━━━━━━━━━━━━━━━━\u001b[0m\u001b[37m\u001b[0m \u001b[1m2s\u001b[0m 33ms/step - accuracy: 0.7505 - loss: 0.5203 - val_accuracy: 0.7505 - val_loss: 0.5126\n",
            "Epoch 3/10\n",
            "\u001b[1m75/75\u001b[0m \u001b[32m━━━━━━━━━━━━━━━━━━━━\u001b[0m\u001b[37m\u001b[0m \u001b[1m2s\u001b[0m 31ms/step - accuracy: 0.7534 - loss: 0.5033 - val_accuracy: 0.7581 - val_loss: 0.5045\n",
            "Epoch 4/10\n",
            "\u001b[1m75/75\u001b[0m \u001b[32m━━━━━━━━━━━━━━━━━━━━\u001b[0m\u001b[37m\u001b[0m \u001b[1m2s\u001b[0m 31ms/step - accuracy: 0.7608 - loss: 0.4983 - val_accuracy: 0.7514 - val_loss: 0.5140\n",
            "Epoch 5/10\n",
            "\u001b[1m75/75\u001b[0m \u001b[32m━━━━━━━━━━━━━━━━━━━━\u001b[0m\u001b[37m\u001b[0m \u001b[1m2s\u001b[0m 31ms/step - accuracy: 0.7727 - loss: 0.4794 - val_accuracy: 0.7552 - val_loss: 0.5033\n",
            "Epoch 6/10\n",
            "\u001b[1m75/75\u001b[0m \u001b[32m━━━━━━━━━━━━━━━━━━━━\u001b[0m\u001b[37m\u001b[0m \u001b[1m2s\u001b[0m 31ms/step - accuracy: 0.7752 - loss: 0.4777 - val_accuracy: 0.7457 - val_loss: 0.5056\n",
            "Epoch 7/10\n",
            "\u001b[1m75/75\u001b[0m \u001b[32m━━━━━━━━━━━━━━━━━━━━\u001b[0m\u001b[37m\u001b[0m \u001b[1m2s\u001b[0m 30ms/step - accuracy: 0.7799 - loss: 0.4650 - val_accuracy: 0.7505 - val_loss: 0.5134\n",
            "Epoch 8/10\n",
            "\u001b[1m75/75\u001b[0m \u001b[32m━━━━━━━━━━━━━━━━━━━━\u001b[0m\u001b[37m\u001b[0m \u001b[1m2s\u001b[0m 30ms/step - accuracy: 0.7808 - loss: 0.4611 - val_accuracy: 0.7486 - val_loss: 0.5297\n",
            "Epoch 9/10\n",
            "\u001b[1m75/75\u001b[0m \u001b[32m━━━━━━━━━━━━━━━━━━━━\u001b[0m\u001b[37m\u001b[0m \u001b[1m2s\u001b[0m 30ms/step - accuracy: 0.7984 - loss: 0.4421 - val_accuracy: 0.7429 - val_loss: 0.5242\n",
            "Epoch 10/10\n",
            "\u001b[1m75/75\u001b[0m \u001b[32m━━━━━━━━━━━━━━━━━━━━\u001b[0m\u001b[37m\u001b[0m \u001b[1m2s\u001b[0m 30ms/step - accuracy: 0.8042 - loss: 0.4325 - val_accuracy: 0.7552 - val_loss: 0.5094\n"
          ]
        }
      ],
      "source": [
        "epochs = 10\n",
        "BATCH_SIZE = 128\n",
        "\n",
        "history = model.fit(X_train, y_train,\n",
        "                    batch_size=BATCH_SIZE,\n",
        "                    epochs=epochs,\n",
        "                    validation_data=(X_valid, y_valid))"
      ]
    },
    {
      "cell_type": "code",
      "execution_count": 25,
      "metadata": {
        "colab": {
          "base_uri": "https://localhost:8080/"
        },
        "id": "tcOggb5hJux8",
        "outputId": "f095b0db-0668-43f8-9a6e-fcd876ea017f"
      },
      "outputs": [
        {
          "name": "stdout",
          "output_type": "stream",
          "text": [
            "\u001b[1m33/33\u001b[0m \u001b[32m━━━━━━━━━━━━━━━━━━━━\u001b[0m\u001b[37m\u001b[0m \u001b[1m0s\u001b[0m 4ms/step\n"
          ]
        },
        {
          "data": {
            "text/plain": [
              "0.7325826866861024"
            ]
          },
          "execution_count": 25,
          "metadata": {},
          "output_type": "execute_result"
        }
      ],
      "source": [
        "from sklearn.metrics import f1_score\n",
        "f1_score(y_valid, model.predict(X_valid) > 0.5, average= 'weighted')"
      ]
    },
    {
      "cell_type": "code",
      "execution_count": 26,
      "metadata": {
        "colab": {
          "base_uri": "https://localhost:8080/",
          "height": 441
        },
        "id": "CH7cSHMN-jhi",
        "outputId": "00c098b5-e4ce-4da5-9b0f-80204875d62d"
      },
      "outputs": [
        {
          "name": "stdout",
          "output_type": "stream",
          "text": [
            "\u001b[1m32/32\u001b[0m \u001b[32m━━━━━━━━━━━━━━━━━━━━\u001b[0m\u001b[37m\u001b[0m \u001b[1m0s\u001b[0m 3ms/step\n"
          ]
        },
        {
          "data": {
            "text/html": [
              "<div>\n",
              "<style scoped>\n",
              "    .dataframe tbody tr th:only-of-type {\n",
              "        vertical-align: middle;\n",
              "    }\n",
              "\n",
              "    .dataframe tbody tr th {\n",
              "        vertical-align: top;\n",
              "    }\n",
              "\n",
              "    .dataframe thead th {\n",
              "        text-align: right;\n",
              "    }\n",
              "</style>\n",
              "<table border=\"1\" class=\"dataframe\">\n",
              "  <thead>\n",
              "    <tr style=\"text-align: right;\">\n",
              "      <th></th>\n",
              "      <th>Target</th>\n",
              "    </tr>\n",
              "  </thead>\n",
              "  <tbody>\n",
              "    <tr>\n",
              "      <th>0</th>\n",
              "      <td>True</td>\n",
              "    </tr>\n",
              "    <tr>\n",
              "      <th>1</th>\n",
              "      <td>False</td>\n",
              "    </tr>\n",
              "    <tr>\n",
              "      <th>2</th>\n",
              "      <td>True</td>\n",
              "    </tr>\n",
              "    <tr>\n",
              "      <th>3</th>\n",
              "      <td>True</td>\n",
              "    </tr>\n",
              "    <tr>\n",
              "      <th>4</th>\n",
              "      <td>True</td>\n",
              "    </tr>\n",
              "    <tr>\n",
              "      <th>...</th>\n",
              "      <td>...</td>\n",
              "    </tr>\n",
              "    <tr>\n",
              "      <th>995</th>\n",
              "      <td>True</td>\n",
              "    </tr>\n",
              "    <tr>\n",
              "      <th>996</th>\n",
              "      <td>True</td>\n",
              "    </tr>\n",
              "    <tr>\n",
              "      <th>997</th>\n",
              "      <td>True</td>\n",
              "    </tr>\n",
              "    <tr>\n",
              "      <th>998</th>\n",
              "      <td>True</td>\n",
              "    </tr>\n",
              "    <tr>\n",
              "      <th>999</th>\n",
              "      <td>True</td>\n",
              "    </tr>\n",
              "  </tbody>\n",
              "</table>\n",
              "<p>1000 rows × 1 columns</p>\n",
              "</div>"
            ],
            "text/plain": [
              "     Target\n",
              "0      True\n",
              "1     False\n",
              "2      True\n",
              "3      True\n",
              "4      True\n",
              "..      ...\n",
              "995    True\n",
              "996    True\n",
              "997    True\n",
              "998    True\n",
              "999    True\n",
              "\n",
              "[1000 rows x 1 columns]"
            ]
          },
          "execution_count": 26,
          "metadata": {},
          "output_type": "execute_result"
        }
      ],
      "source": [
        "submission = pd.DataFrame(model.predict(test) > 0.5, columns = ['Target'])\n",
        "submission"
      ]
    }
  ],
  "metadata": {
    "accelerator": "GPU",
    "colab": {
      "gpuType": "T4",
      "provenance": []
    },
    "kernelspec": {
      "display_name": "base",
      "language": "python",
      "name": "python3"
    },
    "language_info": {
      "codemirror_mode": {
        "name": "ipython",
        "version": 3
      },
      "file_extension": ".py",
      "mimetype": "text/x-python",
      "name": "python",
      "nbconvert_exporter": "python",
      "pygments_lexer": "ipython3",
      "version": "3.12.2"
    }
  },
  "nbformat": 4,
  "nbformat_minor": 0
}
